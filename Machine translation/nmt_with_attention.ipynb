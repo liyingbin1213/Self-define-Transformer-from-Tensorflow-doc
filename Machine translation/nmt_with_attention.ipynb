{
  {
   "cell_type": "markdown",
   "metadata": {
    "colab_type": "text",
    "id": "J0Qjg6vuaHNt"
   },
   "source": [
    "# 基于注意力的神经机器翻译"
   ]
  },
  {
   "cell_type": "markdown",
   "metadata": {
    "colab_type": "text",
    "id": "AOpGoE2T-YXS"
   },
   "source": [
    "<table class=\"tfo-notebook-buttons\" align=\"left\">\n",
    "  <td>\n",
    "    <a target=\"_blank\" href=\"https://tensorflow.google.cn/tutorials/text/nmt_with_attention\">\n",
    "    <img src=\"https://tensorflow.google.cn/images/tf_logo_32px.png\" />\n",
    "    在 TensorFlow.org 上查看</a>\n",
    "  </td>\n",
    "  <td>\n",
    "    <a target=\"_blank\" href=\"https://colab.research.google.com/github/tensorflow/docs-l10n/blob/master/site/zh-cn/tutorials/text/nmt_with_attention.ipynb\">\n",
    "    <img src=\"https://tensorflow.google.cn/images/colab_logo_32px.png\" />\n",
    "    在 Google Colab 运行</a>\n",
    "  </td>\n",
    "  <td>\n",
    "    <a target=\"_blank\" href=\"https://github.com/tensorflow/docs-l10n/blob/master/site/zh-cn/tutorials/text/nmt_with_attention.ipynb\">\n",
    "    <img src=\"https://tensorflow.google.cn/images/GitHub-Mark-32px.png\" />\n",
    "    在 GitHub 上查看源代码</a>\n",
    "  </td>\n",
    "  <td>\n",
    "    <a href=\"https://storage.googleapis.com/tensorflow_docs/docs-l10n/site/zh-cn/tutorials/text/nmt_with_attention.ipynb\"><img src=\"https://tensorflow.google.cn/images/download_logo_32px.png\" />下载此 notebook</a>\n",
    "  </td>\n",
    "</table>"
   ]
  },
  {
   "cell_type": "markdown",
   "metadata": {
    "colab_type": "text",
    "id": "8dEwzVWg0f-E"
   },
   "source": [
    "Note: 我们的 TensorFlow 社区翻译了这些文档。因为社区翻译是尽力而为， 所以无法保证它们是最准确的，并且反映了最新的\n",
    "[官方英文文档](https://tensorflow.google.cn/?hl=en)。如果您有改进此翻译的建议， 请提交 pull request 到\n",
    "[tensorflow/docs](https://github.com/tensorflow/docs) GitHub 仓库。要志愿地撰写或者审核译文，请加入\n",
    "[docs-zh-cn@tensorflow.org Google Group](https://groups.google.com/a/tensorflow.org/forum/#!forum/docs-zh-cn)。"
   ]
  },
  {
   "cell_type": "markdown",
   "metadata": {
    "colab_type": "text",
    "id": "CiwtNgENbx2g"
   },
   "source": [
    "此笔记本训练一个将西班牙语翻译为英语的序列到序列（sequence to sequence，简写为 seq2seq）模型。此例子难度较高，需要对序列到序列模型的知识有一定了解。\n",
    "\n",
    "训练完此笔记本中的模型后，你将能够输入一个西班牙语句子，例如 *\"¿todavia estan en casa?\"*，并返回其英语翻译 *\"are you still at home?\"*\n",
    "\n",
    "对于一个简单的例子来说，翻译质量令人满意。但是更有趣的可能是生成的注意力图：它显示在翻译过程中，输入句子的哪些部分受到了模型的注意。\n",
    "\n",
    "<img src=\"https://tensorflow.google.cn/images/spanish-english.png\" alt=\"spanish-english attention plot\">\n",
    "\n",
    "请注意：运行这个例子用一个 P100 GPU 需要花大约 10 分钟。"
   ]
  },
  {
   "cell_type": "code",
   "execution_count": 2,
   "metadata": {
    "colab": {},
    "colab_type": "code",
    "id": "tnxXKDjq3jEL"
   },
   "outputs": [],
   "source": [
    "import tensorflow as tf\n",
    "\n",
    "import matplotlib.pyplot as plt\n",
    "import matplotlib.ticker as ticker\n",
    "from sklearn.model_selection import train_test_split\n",
    "\n",
    "import unicodedata\n",
    "import re\n",
    "import numpy as np\n",
    "import os\n",
    "import io\n",
    "import time"
   ]
  },
  {
   "cell_type": "markdown",
   "metadata": {
    "colab_type": "text",
    "id": "wfodePkj3jEa"
   },
   "source": [
    "## 下载和准备数据集\n",
    "\n",
    "我们将使用 http://www.manythings.org/anki/ 提供的一个语言数据集。这个数据集包含如下格式的语言翻译对：\n",
    "\n",
    "```\n",
    "May I borrow this book?\t¿Puedo tomar prestado este libro?\n",
    "```\n",
    "\n",
    "这个数据集中有很多种语言可供选择。我们将使用英语 - 西班牙语数据集。为方便使用，我们在谷歌云上提供了此数据集的一份副本。但是你也可以自己下载副本。下载完数据集后，我们将采取下列步骤准备数据：\n",
    "\n",
    "1. 给每个句子添加一个 *开始* 和一个 *结束* 标记（token）。\n",
    "2. 删除特殊字符以清理句子。\n",
    "3. 创建一个单词索引和一个反向单词索引（即一个从单词映射至 id 的词典和一个从 id 映射至单词的词典）。\n",
    "4. 将每个句子填充（pad）到最大长度。"
   ]
  },
  {
   "cell_type": "code",
   "execution_count": 3,
   "metadata": {
    "colab": {},
    "colab_type": "code",
    "id": "kRVATYOgJs1b"
   },
   "outputs": [
    {
     "name": "stdout",
     "output_type": "stream",
     "text": [
      "Downloading data from http://storage.googleapis.com/download.tensorflow.org/data/spa-eng.zip\n",
      "\r",
      "   8192/2638744 [..............................] - ETA: 0s"
     ]
    },
    {
     "name": "stdout",
     "output_type": "stream",
     "text": [
      "\b\b\b\b\b\b\b\b\b\b\b\b\b\b\b\b\b\b\b\b\b\b\b\b\b\b\b\b\b\b\b\b\b\b\b\b\b\b\b\b\b\b\b\b\b\b\b\b\b\b\b\b\b\b\b\b\b\b\r",
      "2646016/2638744 [==============================] - 0s 0us/step\n"
     ]
    }
   ],
   "source": [
    "# 下载文件\n",
    "path_to_zip = tf.keras.utils.get_file(\n",
    "    'spa-eng.zip', origin='http://storage.googleapis.com/download.tensorflow.org/data/spa-eng.zip',\n",
    "    extract=True)\n",
    "\n",
    "path_to_file = os.path.dirname(path_to_zip)+\"/spa-eng/spa.txt\""
   ]
  },
  {
   "cell_type": "code",
   "execution_count": 4,
   "metadata": {
    "colab": {},
    "colab_type": "code",
    "id": "rd0jw-eC3jEh"
   },
   "outputs": [],
   "source": [
    "# 将 unicode 文件转换为 ascii\n",
    "def unicode_to_ascii(s):\n",
    "    return ''.join(c for c in unicodedata.normalize('NFD', s)\n",
    "        if unicodedata.category(c) != 'Mn')\n",
    "\n",
    "\n",
    "def preprocess_sentence(w):\n",
    "    w = unicode_to_ascii(w.lower().strip())\n",
    "\n",
    "    # 在单词与跟在其后的标点符号之间插入一个空格\n",
    "    # 例如： \"he is a boy.\" => \"he is a boy .\"\n",
    "    # 参考：https://stackoverflow.com/questions/3645931/python-padding-punctuation-with-white-spaces-keeping-punctuation\n",
    "    w = re.sub(r\"([?.!,¿])\", r\" \\1 \", w)\n",
    "    w = re.sub(r'[\" \"]+', \" \", w)\n",
    "\n",
    "    # 除了 (a-z, A-Z, \".\", \"?\", \"!\", \",\")，将所有字符替换为空格\n",
    "    w = re.sub(r\"[^a-zA-Z?.!,¿]+\", \" \", w)\n",
    "\n",
    "    w = w.rstrip().strip()\n",
    "\n",
    "    # 给句子加上开始和结束标记\n",
    "    # 以便模型知道何时开始和结束预测\n",
    "    w = '<start> ' + w + ' <end>'\n",
    "    return w"
   ]
  },
  {
   "cell_type": "code",
   "execution_count": 5,
   "metadata": {
    "colab": {},
    "colab_type": "code",
    "id": "opI2GzOt479E"
   },
   "outputs": [
    {
     "name": "stdout",
     "output_type": "stream",
     "text": [
      "<start> may i borrow this book ? <end>\n",
      "b'<start> \\xc2\\xbf puedo tomar prestado este libro ? <end>'\n"
     ]
    }
   ],
   "source": [
    "en_sentence = u\"May I borrow this book?\"\n",
    "sp_sentence = u\"¿Puedo tomar prestado este libro?\"\n",
    "print(preprocess_sentence(en_sentence))\n",
    "print(preprocess_sentence(sp_sentence).encode('utf-8'))"
   ]
  },
  {
   "cell_type": "code",
   "execution_count": 6,
   "metadata": {
    "colab": {},
    "colab_type": "code",
    "id": "OHn4Dct23jEm"
   },
   "outputs": [],
   "source": [
    "# 1. 去除重音符号\n",
    "# 2. 清理句子\n",
    "# 3. 返回这样格式的单词对：[ENGLISH, SPANISH]\n",
    "def create_dataset(path, num_examples):\n",
    "    lines = io.open(path, encoding='UTF-8').read().strip().split('\\n')\n",
    "\n",
    "    word_pairs = [[preprocess_sentence(w) for w in l.split('\\t')]  for l in lines[:num_examples]]\n",
    "\n",
    "    return zip(*word_pairs)"
   ]
  },
  {
   "cell_type": "code",
   "execution_count": 7,
   "metadata": {
    "colab": {},
    "colab_type": "code",
    "id": "cTbSbBz55QtF"
   },
   "outputs": [
    {
     "name": "stdout",
     "output_type": "stream",
     "text": [
      "<start> if you want to sound like a native speaker , you must be willing to practice saying the same sentence over and over in the same way that banjo players practice the same phrase over and over until they can play it correctly and at the desired tempo . <end>\n",
      "<start> si quieres sonar como un hablante nativo , debes estar dispuesto a practicar diciendo la misma frase una y otra vez de la misma manera en que un musico de banjo practica el mismo fraseo una y otra vez hasta que lo puedan tocar correctamente y en el tiempo esperado . <end>\n"
     ]
    }
   ],
   "source": [
    "en, sp = create_dataset(path_to_file, None)\n",
    "print(en[-1])\n",
    "print(sp[-1])"
   ]
  },
  {
   "cell_type": "code",
   "execution_count": 8,
   "metadata": {
    "colab": {},
    "colab_type": "code",
    "id": "OmMZQpdO60dt"
   },
   "outputs": [],
   "source": [
    "def max_length(tensor):\n",
    "    return max(len(t) for t in tensor)"
   ]
  },
  {
   "cell_type": "code",
   "execution_count": 9,
   "metadata": {
    "colab": {},
    "colab_type": "code",
    "id": "bIOn8RCNDJXG"
   },
   "outputs": [],
   "source": [
    "def tokenize(lang):\n",
    "  lang_tokenizer = tf.keras.preprocessing.text.Tokenizer(\n",
    "      filters='')\n",
    "  lang_tokenizer.fit_on_texts(lang)\n",
    "\n",
    "  tensor = lang_tokenizer.texts_to_sequences(lang)\n",
    "\n",
    "  tensor = tf.keras.preprocessing.sequence.pad_sequences(tensor,\n",
    "                                                         padding='post')\n",
    "\n",
    "  return tensor, lang_tokenizer"
   ]
  },
  {
   "cell_type": "code",
   "execution_count": 10,
   "metadata": {
    "colab": {},
    "colab_type": "code",
    "id": "eAY9k49G3jE_"
   },
   "outputs": [],
   "source": [
    "def load_dataset(path, num_examples=None):\n",
    "    # 创建清理过的输入输出对\n",
    "    targ_lang, inp_lang = create_dataset(path, num_examples)\n",
    "\n",
    "    input_tensor, inp_lang_tokenizer = tokenize(inp_lang)\n",
    "    target_tensor, targ_lang_tokenizer = tokenize(targ_lang)\n",
    "\n",
    "    return input_tensor, target_tensor, inp_lang_tokenizer, targ_lang_tokenizer"
   ]
  },
  {
   "cell_type": "markdown",
   "metadata": {
    "colab_type": "text",
    "id": "GOi42V79Ydlr"
   },
   "source": [
    "### 限制数据集的大小以加快实验速度（可选）\n",
    "\n",
    "在超过 10 万个句子的完整数据集上训练需要很长时间。为了更快地训练，我们可以将数据集的大小限制为 3 万个句子（当然，翻译质量也会随着数据的减少而降低）："
   ]
  },
  {
   "cell_type": "code",
   "execution_count": 11,
   "metadata": {
    "colab": {},
    "colab_type": "code",
    "id": "cnxC7q-j3jFD"
   },
   "outputs": [],
   "source": [
    "# 尝试实验不同大小的数据集\n",
    "num_examples = 30000\n",
    "input_tensor, target_tensor, inp_lang, targ_lang = load_dataset(path_to_file, num_examples)\n",
    "\n",
    "# 计算目标张量的最大长度 （max_length）\n",
    "max_length_targ, max_length_inp = max_length(target_tensor), max_length(input_tensor)"
   ]
  },
  {
   "cell_type": "code",
   "execution_count": 12,
   "metadata": {
    "colab": {},
    "colab_type": "code",
    "id": "4QILQkOs3jFG"
   },
   "outputs": [
    {
     "name": "stdout",
     "output_type": "stream",
     "text": [
      "24000 24000 6000 6000\n"
     ]
    }
   ],
   "source": [
    "# 采用 80 - 20 的比例切分训练集和验证集\n",
    "input_tensor_train, input_tensor_val, target_tensor_train, target_tensor_val = train_test_split(input_tensor, target_tensor, test_size=0.2)\n",
    "\n",
    "# 显示长度\n",
    "print(len(input_tensor_train), len(target_tensor_train), len(input_tensor_val), len(target_tensor_val))"
   ]
  },
  {
   "cell_type": "code",
   "execution_count": 13,
   "metadata": {
    "colab": {},
    "colab_type": "code",
    "id": "lJPmLZGMeD5q"
   },
   "outputs": [],
   "source": [
    "def convert(lang, tensor):\n",
    "  for t in tensor:\n",
    "    if t!=0:\n",
    "      print (\"%d ----> %s\" % (t, lang.index_word[t]))"
   ]
  },
  {
   "cell_type": "code",
   "execution_count": 14,
   "metadata": {
    "colab": {},
    "colab_type": "code",
    "id": "VXukARTDd7MT"
   },
   "outputs": [
    {
     "name": "stdout",
     "output_type": "stream",
     "text": [
      "Input Language; index to word mapping\n",
      "1 ----> <start>\n",
      "26 ----> yo\n",
      "7689 ----> regresare\n",
      "238 ----> pronto\n",
      "3 ----> .\n",
      "2 ----> <end>\n",
      "\n",
      "Target Language; index to word mapping\n",
      "1 ----> <start>\n",
      "4 ----> i\n",
      "75 ----> will\n",
      "40 ----> be\n",
      "91 ----> back\n",
      "284 ----> soon\n",
      "3 ----> .\n",
      "2 ----> <end>\n"
     ]
    }
   ],
   "source": [
    "print (\"Input Language; index to word mapping\")\n",
    "convert(inp_lang, input_tensor_train[0])\n",
    "print ()\n",
    "print (\"Target Language; index to word mapping\")\n",
    "convert(targ_lang, target_tensor_train[0])"
   ]
  },
  {
   "cell_type": "markdown",
   "metadata": {
    "colab_type": "text",
    "id": "rgCLkfv5uO3d"
   },
   "source": [
    "### 创建一个 tf.data 数据集"
   ]
  },
  {
   "cell_type": "code",
   "execution_count": 15,
   "metadata": {
    "colab": {},
    "colab_type": "code",
    "id": "TqHsArVZ3jFS"
   },
   "outputs": [],
   "source": [
    "BUFFER_SIZE = len(input_tensor_train)\n",
    "BATCH_SIZE = 64\n",
    "steps_per_epoch = len(input_tensor_train)//BATCH_SIZE\n",
    "embedding_dim = 256\n",
    "units = 1024\n",
    "vocab_inp_size = len(inp_lang.word_index)+1\n",
    "vocab_tar_size = len(targ_lang.word_index)+1\n",
    "\n",
    "dataset = tf.data.Dataset.from_tensor_slices((input_tensor_train, target_tensor_train)).shuffle(BUFFER_SIZE)\n",
    "dataset = dataset.batch(BATCH_SIZE, drop_remainder=True)"
   ]
  },
  {
   "cell_type": "code",
   "execution_count": 16,
   "metadata": {
    "colab": {},
    "colab_type": "code",
    "id": "qc6-NK1GtWQt"
   },
   "outputs": [
    {
     "data": {
      "text/plain": [
       "(TensorShape([64, 16]), TensorShape([64, 11]))"
      ]
     },
     "execution_count": 16,
     "metadata": {},
     "output_type": "execute_result"
    }
   ],
   "source": [
    "example_input_batch, example_target_batch = next(iter(dataset))\n",
    "example_input_batch.shape, example_target_batch.shape"
   ]
  },
  {
   "cell_type": "markdown",
   "metadata": {
    "colab_type": "text",
    "id": "TNfHIF71ulLu"
   },
   "source": [
    "## 编写编码器 （encoder） 和解码器 （decoder） 模型\n",
    "\n",
    "实现一个基于注意力的编码器 - 解码器模型。关于这种模型，你可以阅读 TensorFlow 的 [神经机器翻译 (序列到序列) 教程](https://github.com/tensorflow/nmt)。本示例采用一组更新的 API。此笔记本实现了上述序列到序列教程中的 [注意力方程式](https://github.com/tensorflow/nmt#background-on-the-attention-mechanism)。下图显示了注意力机制为每个输入单词分配一个权重，然后解码器将这个权重用于预测句子中的下一个单词。下图和公式是 [Luong 的论文](https://arxiv.org/abs/1508.04025v5)中注意力机制的一个例子。\n",
    "\n",
    "<img src=\"https://tensorflow.google.cn/images/seq2seq/attention_mechanism.jpg\" width=\"500\" alt=\"attention mechanism\">\n",
    "\n",
    "输入经过编码器模型，编码器模型为我们提供形状为 *(批大小，最大长度，隐藏层大小)* 的编码器输出和形状为 *(批大小，隐藏层大小)* 的编码器隐藏层状态。\n",
    "\n",
    "下面是所实现的方程式：\n",
    "\n",
    "<img src=\"https://tensorflow.google.cn/images/seq2seq/attention_equation_0.jpg\" alt=\"attention equation 0\" width=\"800\">\n",
    "<img src=\"https://tensorflow.google.cn/images/seq2seq/attention_equation_1.jpg\" alt=\"attention equation 1\" width=\"800\">\n",
    "\n",
    "本教程的编码器采用 [Bahdanau 注意力](https://arxiv.org/pdf/1409.0473.pdf)。在用简化形式编写之前，让我们先决定符号：\n",
    "\n",
    "* FC = 完全连接（密集）层\n",
    "* EO = 编码器输出\n",
    "* H = 隐藏层状态\n",
    "* X = 解码器输入\n",
    "\n",
    "以及伪代码：\n",
    "\n",
    "* `score = FC(tanh(FC(EO) + FC(H)))`\n",
    "* `attention weights = softmax(score, axis = 1)`。 Softmax 默认被应用于最后一个轴，但是这里我们想将它应用于 *第一个轴*, 因为分数 （score） 的形状是 *(批大小，最大长度，隐藏层大小)*。最大长度 （`max_length`） 是我们的输入的长度。因为我们想为每个输入分配一个权重，所以 softmax 应该用在这个轴上。\n",
    "* `context vector = sum(attention weights * EO, axis = 1)`。选择第一个轴的原因同上。\n",
    "* `embedding output` = 解码器输入 X 通过一个嵌入层。\n",
    "* `merged vector = concat(embedding output, context vector)`\n",
    "* 此合并后的向量随后被传送到 GRU\n",
    "\n",
    "每个步骤中所有向量的形状已在代码的注释中阐明："
   ]
  },
  {
   "cell_type": "code",
   "execution_count": 17,
   "metadata": {
    "colab": {},
    "colab_type": "code",
    "id": "nZ2rI24i3jFg"
   },
   "outputs": [],
   "source": [
    "class Encoder(tf.keras.Model):\n",
    "  def __init__(self, vocab_size, embedding_dim, enc_units, batch_sz):\n",
    "    super(Encoder, self).__init__()\n",
    "    self.batch_sz = batch_sz\n",
    "    self.enc_units = enc_units\n",
    "    self.embedding = tf.keras.layers.Embedding(vocab_size, embedding_dim)\n",
    "    self.gru = tf.keras.layers.GRU(self.enc_units,\n",
    "                                   return_sequences=True,\n",
    "                                   return_state=True,\n",
    "                                   recurrent_initializer='glorot_uniform')\n",
    "\n",
    "  def call(self, x, hidden):\n",
    "    x = self.embedding(x)\n",
    "    output, state = self.gru(x, initial_state = hidden)\n",
    "    return output, state\n",
    "\n",
    "  def initialize_hidden_state(self):\n",
    "    return tf.zeros((self.batch_sz, self.enc_units))"
   ]
  },
  {
   "cell_type": "code",
   "execution_count": 18,
   "metadata": {
    "colab": {},
    "colab_type": "code",
    "id": "60gSVh05Jl6l"
   },
   "outputs": [
    {
     "name": "stdout",
     "output_type": "stream",
     "text": [
      "Encoder output shape: (batch size, sequence length, units) (64, 16, 1024)\n",
      "Encoder Hidden state shape: (batch size, units) (64, 1024)\n"
     ]
    }
   ],
   "source": [
    "encoder = Encoder(vocab_inp_size, embedding_dim, units, BATCH_SIZE)\n",
    "\n",
    "# 样本输入\n",
    "sample_hidden = encoder.initialize_hidden_state()\n",
    "sample_output, sample_hidden = encoder(example_input_batch, sample_hidden)\n",
    "print ('Encoder output shape: (batch size, sequence length, units) {}'.format(sample_output.shape))\n",
    "print ('Encoder Hidden state shape: (batch size, units) {}'.format(sample_hidden.shape))"
   ]
  },
  {
   "cell_type": "code",
   "execution_count": 19,
   "metadata": {
    "colab": {},
    "colab_type": "code",
    "id": "umohpBN2OM94"
   },
   "outputs": [],
   "source": [
    "class BahdanauAttention(tf.keras.layers.Layer):\n",
    "  def __init__(self, units):\n",
    "    super(BahdanauAttention, self).__init__()\n",
    "    self.W1 = tf.keras.layers.Dense(units)\n",
    "    self.W2 = tf.keras.layers.Dense(units)\n",
    "    self.V = tf.keras.layers.Dense(1)\n",
    "\n",
    "  def call(self, query, values):\n",
    "    # 隐藏层的形状 == （批大小，隐藏层大小）\n",
    "    # hidden_with_time_axis 的形状 == （批大小，1，隐藏层大小）\n",
    "    # 这样做是为了执行加法以计算分数  \n",
    "    hidden_with_time_axis = tf.expand_dims(query, 1)\n",
    "\n",
    "    # 分数的形状 == （批大小，最大长度，1）\n",
    "    # 我们在最后一个轴上得到 1， 因为我们把分数应用于 self.V\n",
    "    # 在应用 self.V 之前，张量的形状是（批大小，最大长度，单位）\n",
    "    score = self.V(tf.nn.tanh(\n",
    "        self.W1(values) + self.W2(hidden_with_time_axis)))\n",
    "\n",
    "    # 注意力权重 （attention_weights） 的形状 == （批大小，最大长度，1）\n",
    "    attention_weights = tf.nn.softmax(score, axis=1)\n",
    "\n",
    "    # 上下文向量 （context_vector） 求和之后的形状 == （批大小，隐藏层大小）\n",
    "    context_vector = attention_weights * values\n",
    "    context_vector = tf.reduce_sum(context_vector, axis=1)\n",
    "\n",
    "    return context_vector, attention_weights"
   ]
  },
  {
   "cell_type": "code",
   "execution_count": 20,
   "metadata": {
    "colab": {},
    "colab_type": "code",
    "id": "k534zTHiDjQU"
   },
   "outputs": [
    {
     "name": "stdout",
     "output_type": "stream",
     "text": [
      "Attention result shape: (batch size, units) (64, 1024)\n",
      "Attention weights shape: (batch_size, sequence_length, 1) (64, 16, 1)\n"
     ]
    }
   ],
   "source": [
    "attention_layer = BahdanauAttention(10)\n",
    "attention_result, attention_weights = attention_layer(sample_hidden, sample_output)\n",
    "\n",
    "print(\"Attention result shape: (batch size, units) {}\".format(attention_result.shape))\n",
    "print(\"Attention weights shape: (batch_size, sequence_length, 1) {}\".format(attention_weights.shape))"
   ]
  },
  {
   "cell_type": "code",
   "execution_count": 21,
   "metadata": {
    "colab": {},
    "colab_type": "code",
    "id": "yJ_B3mhW3jFk"
   },
   "outputs": [],
   "source": [
    "class Decoder(tf.keras.Model):\n",
    "  def __init__(self, vocab_size, embedding_dim, dec_units, batch_sz):\n",
    "    super(Decoder, self).__init__()\n",
    "    self.batch_sz = batch_sz\n",
    "    self.dec_units = dec_units\n",
    "    self.embedding = tf.keras.layers.Embedding(vocab_size, embedding_dim)\n",
    "    self.gru = tf.keras.layers.GRU(self.dec_units,\n",
    "                                   return_sequences=True,\n",
    "                                   return_state=True,\n",
    "                                   recurrent_initializer='glorot_uniform')\n",
    "    self.fc = tf.keras.layers.Dense(vocab_size)\n",
    "\n",
    "    # 用于注意力\n",
    "    self.attention = BahdanauAttention(self.dec_units)\n",
    "\n",
    "  def call(self, x, hidden, enc_output):\n",
    "    # 编码器输出 （enc_output） 的形状 == （批大小，最大长度，隐藏层大小）\n",
    "    context_vector, attention_weights = self.attention(hidden, enc_output)\n",
    "\n",
    "    # x 在通过嵌入层后的形状 == （批大小，1，嵌入维度）\n",
    "    x = self.embedding(x)\n",
    "\n",
    "    # x 在拼接 （concatenation） 后的形状 == （批大小，1，嵌入维度 + 隐藏层大小）\n",
    "    x = tf.concat([tf.expand_dims(context_vector, 1), x], axis=-1)\n",
    "\n",
    "    # 将合并后的向量传送到 GRU\n",
    "    output, state = self.gru(x)\n",
    "\n",
    "    # 输出的形状 == （批大小 * 1，隐藏层大小）\n",
    "    output = tf.reshape(output, (-1, output.shape[2]))\n",
    "\n",
    "    # 输出的形状 == （批大小，vocab）\n",
    "    x = self.fc(output)\n",
    "\n",
    "    return x, state, attention_weights"
   ]
  },
  {
   "cell_type": "code",
   "execution_count": 22,
   "metadata": {
    "colab": {},
    "colab_type": "code",
    "id": "P5UY8wko3jFp"
   },
   "outputs": [
    {
     "name": "stdout",
     "output_type": "stream",
     "text": [
      "Decoder output shape: (batch_size, vocab size) (64, 4935)\n"
     ]
    }
   ],
   "source": [
    "decoder = Decoder(vocab_tar_size, embedding_dim, units, BATCH_SIZE)\n",
    "\n",
    "sample_decoder_output, _, _ = decoder(tf.random.uniform((64, 1)),\n",
    "                                      sample_hidden, sample_output)\n",
    "\n",
    "print ('Decoder output shape: (batch_size, vocab size) {}'.format(sample_decoder_output.shape))"
   ]
  },
  {
   "cell_type": "markdown",
   "metadata": {
    "colab_type": "text",
    "id": "_ch_71VbIRfK"
   },
   "source": [
    "## 定义优化器和损失函数"
   ]
  },
  {
   "cell_type": "code",
   "execution_count": 23,
   "metadata": {
    "colab": {},
    "colab_type": "code",
    "id": "WmTHr5iV3jFr"
   },
   "outputs": [],
   "source": [
    "optimizer = tf.keras.optimizers.Adam()\n",
    "loss_object = tf.keras.losses.SparseCategoricalCrossentropy(\n",
    "    from_logits=True, reduction='none')\n",
    "\n",
    "def loss_function(real, pred):\n",
    "  mask = tf.math.logical_not(tf.math.equal(real, 0))\n",
    "  loss_ = loss_object(real, pred)\n",
    "\n",
    "  mask = tf.cast(mask, dtype=loss_.dtype)\n",
    "  loss_ *= mask\n",
    "\n",
    "  return tf.reduce_mean(loss_)"
   ]
  },
  {
   "cell_type": "markdown",
   "metadata": {
    "colab_type": "text",
    "id": "DMVWzzsfNl4e"
   },
   "source": [
    "## 检查点（基于对象保存）"
   ]
  },
  {
   "cell_type": "code",
   "execution_count": 24,
   "metadata": {
    "colab": {},
    "colab_type": "code",
    "id": "Zj8bXQTgNwrF"
   },
   "outputs": [],
   "source": [
    "checkpoint_dir = './training_checkpoints'\n",
    "checkpoint_prefix = os.path.join(checkpoint_dir, \"ckpt\")\n",
    "checkpoint = tf.train.Checkpoint(optimizer=optimizer,\n",
    "                                 encoder=encoder,\n",
    "                                 decoder=decoder)"
   ]
  },
  {
   "cell_type": "markdown",
   "metadata": {
    "colab_type": "text",
    "id": "hpObfY22IddU"
   },
   "source": [
    "## 训练\n",
    "\n",
    "1. 将 *输入* 传送至 *编码器*，编码器返回 *编码器输出* 和 *编码器隐藏层状态*。\n",
    "2. 将编码器输出、编码器隐藏层状态和解码器输入（即 *开始标记*）传送至解码器。\n",
    "3. 解码器返回 *预测* 和 *解码器隐藏层状态*。\n",
    "4. 解码器隐藏层状态被传送回模型，预测被用于计算损失。\n",
    "5. 使用 *教师强制 （teacher forcing）* 决定解码器的下一个输入。\n",
    "6. *教师强制* 是将 *目标词* 作为 *下一个输入* 传送至解码器的技术。\n",
    "7. 最后一步是计算梯度，并将其应用于优化器和反向传播。"
   ]
  },
  {
   "cell_type": "code",
   "execution_count": 25,
   "metadata": {
    "colab": {},
    "colab_type": "code",
    "id": "sC9ArXSsVfqn"
   },
   "outputs": [],
   "source": [
    "@tf.function\n",
    "def train_step(inp, targ, enc_hidden):\n",
    "  loss = 0\n",
    "\n",
    "  with tf.GradientTape() as tape:\n",
    "    enc_output, enc_hidden = encoder(inp, enc_hidden)\n",
    "\n",
    "    dec_hidden = enc_hidden\n",
    "\n",
    "    dec_input = tf.expand_dims([targ_lang.word_index['<start>']] * BATCH_SIZE, 1)\n",
    "\n",
    "    # 教师强制 - 将目标词作为下一个输入\n",
    "    for t in range(1, targ.shape[1]):\n",
    "      # 将编码器输出 （enc_output） 传送至解码器\n",
    "      predictions, dec_hidden, _ = decoder(dec_input, dec_hidden, enc_output)\n",
    "\n",
    "      loss += loss_function(targ[:, t], predictions)\n",
    "\n",
    "      # 使用教师强制\n",
    "      dec_input = tf.expand_dims(targ[:, t], 1)\n",
    "\n",
    "  batch_loss = (loss / int(targ.shape[1]))\n",
    "\n",
    "  variables = encoder.trainable_variables + decoder.trainable_variables\n",
    "\n",
    "  gradients = tape.gradient(loss, variables)\n",
    "\n",
    "  optimizer.apply_gradients(zip(gradients, variables))\n",
    "\n",
    "  return batch_loss"
   ]
  },
  {
   "cell_type": "code",
   "execution_count": 26,
   "metadata": {
    "colab": {},
    "colab_type": "code",
    "id": "ddefjBMa3jF0"
   },
   "outputs": [
    {
     "name": "stdout",
     "output_type": "stream",
     "text": [
      "Epoch 1 Batch 0 Loss 4.5300\n"
     ]
    },
    {
     "name": "stdout",
     "output_type": "stream",
     "text": [
      "Epoch 1 Batch 100 Loss 2.3125\n"
     ]
    },
    {
     "name": "stdout",
     "output_type": "stream",
     "text": [
      "Epoch 1 Batch 200 Loss 1.7958\n"
     ]
    },
    {
     "name": "stdout",
     "output_type": "stream",
     "text": [
      "Epoch 1 Batch 300 Loss 1.7807\n"
     ]
    },
    {
     "name": "stdout",
     "output_type": "stream",
     "text": [
      "Epoch 1 Loss 2.0290\n",
      "Time taken for 1 epoch 26.37164545059204 sec\n",
      "\n",
      "Epoch 2 Batch 0 Loss 1.5894\n"
     ]
    },
    {
     "name": "stdout",
     "output_type": "stream",
     "text": [
      "Epoch 2 Batch 100 Loss 1.4218\n"
     ]
    },
    {
     "name": "stdout",
     "output_type": "stream",
     "text": [
      "Epoch 2 Batch 200 Loss 1.3683\n"
     ]
    },
    {
     "name": "stdout",
     "output_type": "stream",
     "text": [
      "Epoch 2 Batch 300 Loss 1.1853\n"
     ]
    },
    {
     "name": "stdout",
     "output_type": "stream",
     "text": [
      "Epoch 2 Loss 1.3545\n",
      "Time taken for 1 epoch 15.70508098602295 sec\n",
      "\n",
      "Epoch 3 Batch 0 Loss 0.9367\n"
     ]
    },
    {
     "name": "stdout",
     "output_type": "stream",
     "text": [
      "Epoch 3 Batch 100 Loss 0.8853\n"
     ]
    },
    {
     "name": "stdout",
     "output_type": "stream",
     "text": [
      "Epoch 3 Batch 200 Loss 0.9119\n"
     ]
    },
    {
     "name": "stdout",
     "output_type": "stream",
     "text": [
      "Epoch 3 Batch 300 Loss 0.8945\n"
     ]
    },
    {
     "name": "stdout",
     "output_type": "stream",
     "text": [
      "Epoch 3 Loss 0.9198\n",
      "Time taken for 1 epoch 15.265003442764282 sec\n",
      "\n",
      "Epoch 4 Batch 0 Loss 0.6674\n"
     ]
    },
    {
     "name": "stdout",
     "output_type": "stream",
     "text": [
      "Epoch 4 Batch 100 Loss 0.6541\n"
     ]
    },
    {
     "name": "stdout",
     "output_type": "stream",
     "text": [
      "Epoch 4 Batch 200 Loss 0.6519\n"
     ]
    },
    {
     "name": "stdout",
     "output_type": "stream",
     "text": [
      "Epoch 4 Batch 300 Loss 0.5457\n"
     ]
    },
    {
     "name": "stdout",
     "output_type": "stream",
     "text": [
      "Epoch 4 Loss 0.6155\n",
      "Time taken for 1 epoch 15.74778413772583 sec\n",
      "\n",
      "Epoch 5 Batch 0 Loss 0.3536\n"
     ]
    },
    {
     "name": "stdout",
     "output_type": "stream",
     "text": [
      "Epoch 5 Batch 100 Loss 0.3862\n"
     ]
    },
    {
     "name": "stdout",
     "output_type": "stream",
     "text": [
      "Epoch 5 Batch 200 Loss 0.3739\n"
     ]
    },
    {
     "name": "stdout",
     "output_type": "stream",
     "text": [
      "Epoch 5 Batch 300 Loss 0.3193\n"
     ]
    },
    {
     "name": "stdout",
     "output_type": "stream",
     "text": [
      "Epoch 5 Loss 0.4136\n",
      "Time taken for 1 epoch 15.238663911819458 sec\n",
      "\n",
      "Epoch 6 Batch 0 Loss 0.2180\n"
     ]
    },
    {
     "name": "stdout",
     "output_type": "stream",
     "text": [
      "Epoch 6 Batch 100 Loss 0.2672\n"
     ]
    },
    {
     "name": "stdout",
     "output_type": "stream",
     "text": [
      "Epoch 6 Batch 200 Loss 0.2807\n"
     ]
    },
    {
     "name": "stdout",
     "output_type": "stream",
     "text": [
      "Epoch 6 Batch 300 Loss 0.2995\n"
     ]
    },
    {
     "name": "stdout",
     "output_type": "stream",
     "text": [
      "Epoch 6 Loss 0.2834\n",
      "Time taken for 1 epoch 15.659996032714844 sec\n",
      "\n",
      "Epoch 7 Batch 0 Loss 0.1691\n"
     ]
    },
    {
     "name": "stdout",
     "output_type": "stream",
     "text": [
      "Epoch 7 Batch 100 Loss 0.1573\n"
     ]
    },
    {
     "name": "stdout",
     "output_type": "stream",
     "text": [
      "Epoch 7 Batch 200 Loss 0.2114\n"
     ]
    },
    {
     "name": "stdout",
     "output_type": "stream",
     "text": [
      "Epoch 7 Batch 300 Loss 0.1925\n"
     ]
    },
    {
     "name": "stdout",
     "output_type": "stream",
     "text": [
      "Epoch 7 Loss 0.2010\n",
      "Time taken for 1 epoch 15.272123098373413 sec\n",
      "\n",
      "Epoch 8 Batch 0 Loss 0.1534\n"
     ]
    },
    {
     "name": "stdout",
     "output_type": "stream",
     "text": [
      "Epoch 8 Batch 100 Loss 0.1703\n"
     ]
    },
    {
     "name": "stdout",
     "output_type": "stream",
     "text": [
      "Epoch 8 Batch 200 Loss 0.1522\n"
     ]
    },
    {
     "name": "stdout",
     "output_type": "stream",
     "text": [
      "Epoch 8 Batch 300 Loss 0.1954\n"
     ]
    },
    {
     "name": "stdout",
     "output_type": "stream",
     "text": [
      "Epoch 8 Loss 0.1508\n",
      "Time taken for 1 epoch 15.666714191436768 sec\n",
      "\n",
      "Epoch 9 Batch 0 Loss 0.0881\n"
     ]
    },
    {
     "name": "stdout",
     "output_type": "stream",
     "text": [
      "Epoch 9 Batch 100 Loss 0.1002\n"
     ]
    },
    {
     "name": "stdout",
     "output_type": "stream",
     "text": [
      "Epoch 9 Batch 200 Loss 0.1324\n"
     ]
    },
    {
     "name": "stdout",
     "output_type": "stream",
     "text": [
      "Epoch 9 Batch 300 Loss 0.1104\n"
     ]
    },
    {
     "name": "stdout",
     "output_type": "stream",
     "text": [
      "Epoch 9 Loss 0.1186\n",
      "Time taken for 1 epoch 15.29440712928772 sec\n",
      "\n",
      "Epoch 10 Batch 0 Loss 0.0767\n"
     ]
    },
    {
     "name": "stdout",
     "output_type": "stream",
     "text": [
      "Epoch 10 Batch 100 Loss 0.0686\n"
     ]
    },
    {
     "name": "stdout",
     "output_type": "stream",
     "text": [
      "Epoch 10 Batch 200 Loss 0.0800\n"
     ]
    },
    {
     "name": "stdout",
     "output_type": "stream",
     "text": [
      "Epoch 10 Batch 300 Loss 0.1297\n"
     ]
    },
    {
     "name": "stdout",
     "output_type": "stream",
     "text": [
      "Epoch 10 Loss 0.0979\n",
      "Time taken for 1 epoch 15.680976152420044 sec\n",
      "\n"
     ]
    }
   ],
   "source": [
    "EPOCHS = 10\n",
    "\n",
    "for epoch in range(EPOCHS):\n",
    "  start = time.time()\n",
    "\n",
    "  enc_hidden = encoder.initialize_hidden_state()\n",
    "  total_loss = 0\n",
    "\n",
    "  for (batch, (inp, targ)) in enumerate(dataset.take(steps_per_epoch)):\n",
    "    batch_loss = train_step(inp, targ, enc_hidden)\n",
    "    total_loss += batch_loss\n",
    "\n",
    "    if batch % 100 == 0:\n",
    "        print('Epoch {} Batch {} Loss {:.4f}'.format(epoch + 1,\n",
    "                                                     batch,\n",
    "                                                     batch_loss.numpy()))\n",
    "  # 每 2 个周期（epoch），保存（检查点）一次模型\n",
    "  if (epoch + 1) % 2 == 0:\n",
    "    checkpoint.save(file_prefix = checkpoint_prefix)\n",
    "\n",
    "  print('Epoch {} Loss {:.4f}'.format(epoch + 1,\n",
    "                                      total_loss / steps_per_epoch))\n",
    "  print('Time taken for 1 epoch {} sec\\n'.format(time.time() - start))"
   ]
  },
  {
   "cell_type": "markdown",
   "metadata": {
    "colab_type": "text",
    "id": "mU3Ce8M6I3rz"
   },
   "source": [
    "## 翻译\n",
    "\n",
    "* 评估函数类似于训练循环，不同之处在于在这里我们不使用 *教师强制*。每个时间步的解码器输入是其先前的预测、隐藏层状态和编码器输出。\n",
    "* 当模型预测 *结束标记* 时停止预测。\n",
    "* 存储 *每个时间步的注意力权重*。\n",
    "\n",
    "请注意：对于一个输入，编码器输出仅计算一次。"
   ]
  },
  {
   "cell_type": "code",
   "execution_count": 27,
   "metadata": {
    "colab": {},
    "colab_type": "code",
    "id": "EbQpyYs13jF_"
   },
   "outputs": [],
   "source": [
    "def evaluate(sentence):\n",
    "    attention_plot = np.zeros((max_length_targ, max_length_inp))\n",
    "\n",
    "    sentence = preprocess_sentence(sentence)\n",
    "\n",
    "    inputs = [inp_lang.word_index[i] for i in sentence.split(' ')]\n",
    "    inputs = tf.keras.preprocessing.sequence.pad_sequences([inputs],\n",
    "                                                           maxlen=max_length_inp,\n",
    "                                                           padding='post')\n",
    "    inputs = tf.convert_to_tensor(inputs)\n",
    "\n",
    "    result = ''\n",
    "\n",
    "    hidden = [tf.zeros((1, units))]\n",
    "    enc_out, enc_hidden = encoder(inputs, hidden)\n",
    "\n",
    "    dec_hidden = enc_hidden\n",
    "    dec_input = tf.expand_dims([targ_lang.word_index['<start>']], 0)\n",
    "\n",
    "    for t in range(max_length_targ):\n",
    "        predictions, dec_hidden, attention_weights = decoder(dec_input,\n",
    "                                                             dec_hidden,\n",
    "                                                             enc_out)\n",
    "\n",
    "        # 存储注意力权重以便后面制图\n",
    "        attention_weights = tf.reshape(attention_weights, (-1, ))\n",
    "        attention_plot[t] = attention_weights.numpy()\n",
    "\n",
    "        predicted_id = tf.argmax(predictions[0]).numpy()\n",
    "\n",
    "        result += targ_lang.index_word[predicted_id] + ' '\n",
    "\n",
    "        if targ_lang.index_word[predicted_id] == '<end>':\n",
    "            return result, sentence, attention_plot\n",
    "\n",
    "        # 预测的 ID 被输送回模型\n",
    "        dec_input = tf.expand_dims([predicted_id], 0)\n",
    "\n",
    "    return result, sentence, attention_plot"
   ]
  },
  {
   "cell_type": "code",
   "execution_count": 28,
   "metadata": {
    "colab": {},
    "colab_type": "code",
    "id": "s5hQWlbN3jGF"
   },
   "outputs": [],
   "source": [
    "# 注意力权重制图函数\n",
    "def plot_attention(attention, sentence, predicted_sentence):\n",
    "    fig = plt.figure(figsize=(10,10))\n",
    "    ax = fig.add_subplot(1, 1, 1)\n",
    "    ax.matshow(attention, cmap='viridis')\n",
    "\n",
    "    fontdict = {'fontsize': 14}\n",
    "\n",
    "    ax.set_xticklabels([''] + sentence, fontdict=fontdict, rotation=90)\n",
    "    ax.set_yticklabels([''] + predicted_sentence, fontdict=fontdict)\n",
    "\n",
    "    ax.xaxis.set_major_locator(ticker.MultipleLocator(1))\n",
    "    ax.yaxis.set_major_locator(ticker.MultipleLocator(1))\n",
    "\n",
    "    plt.show()"
   ]
  },
  {
   "cell_type": "code",
   "execution_count": 29,
   "metadata": {
    "colab": {},
    "colab_type": "code",
    "id": "sl9zUHzg3jGI"
   },
   "outputs": [],
   "source": [
    "def translate(sentence):\n",
    "    result, sentence, attention_plot = evaluate(sentence)\n",
    "\n",
    "    print('Input: %s' % (sentence))\n",
    "    print('Predicted translation: {}'.format(result))\n",
    "\n",
    "    attention_plot = attention_plot[:len(result.split(' ')), :len(sentence.split(' '))]\n",
    "    plot_attention(attention_plot, sentence.split(' '), result.split(' '))"
   ]
  },
  {
   "cell_type": "markdown",
   "metadata": {
    "colab_type": "text",
    "id": "n250XbnjOaqP"
   },
   "source": [
    "## 恢复最新的检查点并验证"
   ]
  },
  {
   "cell_type": "code",
   "execution_count": 30,
   "metadata": {
    "colab": {},
    "colab_type": "code",
    "id": "UJpT9D5_OgP6"
   },
   "outputs": [
    {
     "data": {
      "text/plain": [
       "<tensorflow.python.training.tracking.util.CheckpointLoadStatus at 0x7f59dce41e10>"
      ]
     },
     "execution_count": 30,
     "metadata": {},
     "output_type": "execute_result"
    }
   ],
   "source": [
    "# 恢复检查点目录 （checkpoint_dir） 中最新的检查点\n",
    "checkpoint.restore(tf.train.latest_checkpoint(checkpoint_dir))"
   ]
  },
  {
   "cell_type": "code",
   "execution_count": 31,
   "metadata": {
    "colab": {},
    "colab_type": "code",
    "id": "WrAM0FDomq3E"
   },
   "outputs": [
    {
     "name": "stdout",
     "output_type": "stream",
     "text": [
      "Input: <start> hace mucho frio aqui . <end>\n",
      "Predicted translation: it s very cold here . <end> \n"
     ]
    },
    {
     "data": {
      "image/png": "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\n",
      "text/plain": [
       "<Figure size 720x720 with 1 Axes>"
      ]
     },
     "metadata": {
      "needs_background": "light"
     },
     "output_type": "display_data"
    }
   ],
   "source": [
    "translate(u'hace mucho frio aqui.')"
   ]
  },
  {
   "cell_type": "code",
   "execution_count": 32,
   "metadata": {
    "colab": {},
    "colab_type": "code",
    "id": "zSx2iM36EZQZ"
   },
   "outputs": [
    {
     "name": "stdout",
     "output_type": "stream",
     "text": [
      "Input: <start> esta es mi vida . <end>\n",
      "Predicted translation: this is my life . <end> \n"
     ]
    },
    {
     "data": {
      "image/png": "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\n",
      "text/plain": [
       "<Figure size 720x720 with 1 Axes>"
      ]
     },
     "metadata": {
      "needs_background": "light"
     },
     "output_type": "display_data"
    }
   ],
   "source": [
    "translate(u'esta es mi vida.')"
   ]
  },
  {
   "cell_type": "code",
   "execution_count": 33,
   "metadata": {
    "colab": {},
    "colab_type": "code",
    "id": "A3LLCx3ZE0Ls"
   },
   "outputs": [
    {
     "name": "stdout",
     "output_type": "stream",
     "text": [
      "Input: <start> ¿ todavia estan en casa ? <end>\n",
      "Predicted translation: are you still at home ? <end> \n"
     ]
    },
    {
     "data": {
      "image/png": "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\n",
      "text/plain": [
       "<Figure size 720x720 with 1 Axes>"
      ]
     },
     "metadata": {
      "needs_background": "light"
     },
     "output_type": "display_data"
    }
   ],
   "source": [
    "translate(u'¿todavia estan en casa?')"
   ]
  },
  {
   "cell_type": "code",
   "execution_count": 34,
   "metadata": {
    "colab": {},
    "colab_type": "code",
    "id": "DUQVLVqUE1YW"
   },
   "outputs": [
    {
     "name": "stdout",
     "output_type": "stream",
     "text": [
      "Input: <start> trata de averiguarlo . <end>\n",
      "Predicted translation: try to figure it out . <end> \n"
     ]
    },
    {
     "data": {
      "image/png": "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\n",
      "text/plain": [
       "<Figure size 720x720 with 1 Axes>"
      ]
     },
     "metadata": {
      "needs_background": "light"
     },
     "output_type": "display_data"
    }
   ],
   "source": [
    "# 错误的翻译\n",
    "translate(u'trata de averiguarlo.')"
   ]
  },
  {
   "cell_type": "markdown",
   "metadata": {
    "colab_type": "text",
    "id": "RTe5P5ioMJwN"
   },
   "source": [
    "## 下一步\n",
    "\n",
    "* [下载一个不同的数据集](http://www.manythings.org/anki/)实验翻译，例如英语到德语或者英语到法语。\n",
    "* 实验在更大的数据集上训练，或者增加训练周期。"
   ]
  }
 ],
 "metadata": {
  "accelerator": "GPU",
  "colab": {
   "collapsed_sections": [],
   "name": "nmt_with_attention.ipynb",
   "private_outputs": true,
   "provenance": [],
   "toc_visible": true
  },
  "kernelspec": {
   "display_name": "Python 3",
   "name": "python3"
  },
  "language_info": {
   "codemirror_mode": {
    "name": "ipython",
    "version": 3
   },
   "file_extension": ".py",
   "mimetype": "text/x-python",
   "name": "python",
   "nbconvert_exporter": "python",
   "pygments_lexer": "ipython3",
   "version": "3.6.9"
  }
 },
 "nbformat": 4,
 "nbformat_minor": 0
}
